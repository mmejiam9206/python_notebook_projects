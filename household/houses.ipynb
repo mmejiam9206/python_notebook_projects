{
  "nbformat": 4,
  "nbformat_minor": 0,
  "metadata": {
    "colab": {
      "name": "houses.ipynb",
      "version": "0.3.2",
      "provenance": [],
      "collapsed_sections": []
    },
    "kernelspec": {
      "display_name": "Python 3",
      "language": "python",
      "name": "python3"
    }
  },
  "cells": [
    {
      "metadata": {
        "id": "Ujx82x0eJ2mY",
        "colab_type": "text"
      },
      "cell_type": "markdown",
      "source": [
        "For the current problem we need to determine a model that will predict the prices for houses depending on the data gathered from other housing sales. The complete description of the characteristics that were gathered in the process is available on [this file](https://drive.google.com/open?id=1uOU5Ps5T3Yiy8IsgyIRWfIvht7C47r9L), please consult it for more info.\n",
        "\n",
        "We'll start by uploading the file containing the housing sales information, which will be used to train and validate the prediction model."
      ]
    },
    {
      "metadata": {
        "id": "W_E4fWpUB0dI",
        "colab_type": "code",
        "colab": {
          "resources": {
            "http://localhost:8080/nbextensions/google.colab/files.js": {
              "data": "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",
              "ok": true,
              "headers": [
                [
                  "content-type",
                  "application/javascript"
                ]
              ],
              "status": 200,
              "status_text": ""
            }
          },
          "base_uri": "https://localhost:8080/",
          "height": 35
        },
        "outputId": "bd680412-fb6a-4e28-859f-131ed0a231dc"
      },
      "cell_type": "code",
      "source": [
        "from google.colab import files\n",
        "\n",
        "uploaded = files.upload()\n",
        "\n",
        "for fn in uploaded.keys():\n",
        "    print('User uploaded file \"{name}\" with length {length} bytes'.format(\n",
        "      name=fn, length=len(uploaded[fn])))"
      ],
      "execution_count": 59,
      "outputs": [
        {
          "output_type": "display_data",
          "data": {
            "text/html": [
              "\n",
              "     <input type=\"file\" id=\"files-ba2b9eb9-1dd5-412c-9465-29373b04de0b\" name=\"files[]\" multiple disabled />\n",
              "     <output id=\"result-ba2b9eb9-1dd5-412c-9465-29373b04de0b\">\n",
              "      Upload widget is only available when the cell has been executed in the\n",
              "      current browser session. Please rerun this cell to enable.\n",
              "      </output>\n",
              "      <script src=\"/nbextensions/google.colab/files.js\"></script> "
            ],
            "text/plain": [
              "<IPython.core.display.HTML object>"
            ]
          },
          "metadata": {
            "tags": []
          }
        }
      ]
    },
    {
      "metadata": {
        "id": "UOqJGr0dKy53",
        "colab_type": "text"
      },
      "cell_type": "markdown",
      "source": [
        "After the file has been uploaded, we can proceed on importing the necessary modules for the process of creating the model."
      ]
    },
    {
      "metadata": {
        "id": "5QzfQkgs_5Jd",
        "colab_type": "code",
        "colab": {}
      },
      "cell_type": "code",
      "source": [
        "import numpy as np\n",
        "import pandas as pd\n",
        "import matplotlib.pyplot as plt\n",
        "from sklearn.model_selection import train_test_split, RandomizedSearchCV, GridSearchCV\n",
        "from sklearn.preprocessing import OneHotEncoder, MaxAbsScaler, Imputer, LabelEncoder\n",
        "from sklearn.pipeline import Pipeline\n",
        "from sklearn.linear_model import Lasso, Ridge, LinearRegression\n",
        "from sklearn.ensemble import RandomForestRegressor\n",
        "from sklearn.metrics import mean_absolute_error"
      ],
      "execution_count": 0,
      "outputs": []
    },
    {
      "metadata": {
        "id": "07WcNqHcLVQF",
        "colab_type": "text"
      },
      "cell_type": "markdown",
      "source": [
        "We load the csv file containing the data. We can have a glimpse of its contents with the `head` function, which will give us a view on the first 5 rows of the data set that we just loaded."
      ]
    },
    {
      "metadata": {
        "id": "CDiYYj3f_5Js",
        "colab_type": "code",
        "colab": {
          "base_uri": "https://localhost:8080/",
          "height": 253
        },
        "outputId": "9cfdd4f9-d7a6-4cc6-b225-fcc27ec3f860"
      },
      "cell_type": "code",
      "source": [
        "df = pd.read_csv('train.csv')\n",
        "df.head()"
      ],
      "execution_count": 105,
      "outputs": [
        {
          "output_type": "execute_result",
          "data": {
            "text/html": [
              "<div>\n",
              "<style scoped>\n",
              "    .dataframe tbody tr th:only-of-type {\n",
              "        vertical-align: middle;\n",
              "    }\n",
              "\n",
              "    .dataframe tbody tr th {\n",
              "        vertical-align: top;\n",
              "    }\n",
              "\n",
              "    .dataframe thead th {\n",
              "        text-align: right;\n",
              "    }\n",
              "</style>\n",
              "<table border=\"1\" class=\"dataframe\">\n",
              "  <thead>\n",
              "    <tr style=\"text-align: right;\">\n",
              "      <th></th>\n",
              "      <th>Id</th>\n",
              "      <th>MSSubClass</th>\n",
              "      <th>MSZoning</th>\n",
              "      <th>LotFrontage</th>\n",
              "      <th>LotArea</th>\n",
              "      <th>Street</th>\n",
              "      <th>Alley</th>\n",
              "      <th>LotShape</th>\n",
              "      <th>LandContour</th>\n",
              "      <th>Utilities</th>\n",
              "      <th>...</th>\n",
              "      <th>PoolArea</th>\n",
              "      <th>PoolQC</th>\n",
              "      <th>Fence</th>\n",
              "      <th>MiscFeature</th>\n",
              "      <th>MiscVal</th>\n",
              "      <th>MoSold</th>\n",
              "      <th>YrSold</th>\n",
              "      <th>SaleType</th>\n",
              "      <th>SaleCondition</th>\n",
              "      <th>SalePrice</th>\n",
              "    </tr>\n",
              "  </thead>\n",
              "  <tbody>\n",
              "    <tr>\n",
              "      <th>0</th>\n",
              "      <td>1</td>\n",
              "      <td>60</td>\n",
              "      <td>RL</td>\n",
              "      <td>65.0</td>\n",
              "      <td>8450</td>\n",
              "      <td>Pave</td>\n",
              "      <td>NaN</td>\n",
              "      <td>Reg</td>\n",
              "      <td>Lvl</td>\n",
              "      <td>AllPub</td>\n",
              "      <td>...</td>\n",
              "      <td>0</td>\n",
              "      <td>NaN</td>\n",
              "      <td>NaN</td>\n",
              "      <td>NaN</td>\n",
              "      <td>0</td>\n",
              "      <td>2</td>\n",
              "      <td>2008</td>\n",
              "      <td>WD</td>\n",
              "      <td>Normal</td>\n",
              "      <td>208500</td>\n",
              "    </tr>\n",
              "    <tr>\n",
              "      <th>1</th>\n",
              "      <td>2</td>\n",
              "      <td>20</td>\n",
              "      <td>RL</td>\n",
              "      <td>80.0</td>\n",
              "      <td>9600</td>\n",
              "      <td>Pave</td>\n",
              "      <td>NaN</td>\n",
              "      <td>Reg</td>\n",
              "      <td>Lvl</td>\n",
              "      <td>AllPub</td>\n",
              "      <td>...</td>\n",
              "      <td>0</td>\n",
              "      <td>NaN</td>\n",
              "      <td>NaN</td>\n",
              "      <td>NaN</td>\n",
              "      <td>0</td>\n",
              "      <td>5</td>\n",
              "      <td>2007</td>\n",
              "      <td>WD</td>\n",
              "      <td>Normal</td>\n",
              "      <td>181500</td>\n",
              "    </tr>\n",
              "    <tr>\n",
              "      <th>2</th>\n",
              "      <td>3</td>\n",
              "      <td>60</td>\n",
              "      <td>RL</td>\n",
              "      <td>68.0</td>\n",
              "      <td>11250</td>\n",
              "      <td>Pave</td>\n",
              "      <td>NaN</td>\n",
              "      <td>IR1</td>\n",
              "      <td>Lvl</td>\n",
              "      <td>AllPub</td>\n",
              "      <td>...</td>\n",
              "      <td>0</td>\n",
              "      <td>NaN</td>\n",
              "      <td>NaN</td>\n",
              "      <td>NaN</td>\n",
              "      <td>0</td>\n",
              "      <td>9</td>\n",
              "      <td>2008</td>\n",
              "      <td>WD</td>\n",
              "      <td>Normal</td>\n",
              "      <td>223500</td>\n",
              "    </tr>\n",
              "    <tr>\n",
              "      <th>3</th>\n",
              "      <td>4</td>\n",
              "      <td>70</td>\n",
              "      <td>RL</td>\n",
              "      <td>60.0</td>\n",
              "      <td>9550</td>\n",
              "      <td>Pave</td>\n",
              "      <td>NaN</td>\n",
              "      <td>IR1</td>\n",
              "      <td>Lvl</td>\n",
              "      <td>AllPub</td>\n",
              "      <td>...</td>\n",
              "      <td>0</td>\n",
              "      <td>NaN</td>\n",
              "      <td>NaN</td>\n",
              "      <td>NaN</td>\n",
              "      <td>0</td>\n",
              "      <td>2</td>\n",
              "      <td>2006</td>\n",
              "      <td>WD</td>\n",
              "      <td>Abnorml</td>\n",
              "      <td>140000</td>\n",
              "    </tr>\n",
              "    <tr>\n",
              "      <th>4</th>\n",
              "      <td>5</td>\n",
              "      <td>60</td>\n",
              "      <td>RL</td>\n",
              "      <td>84.0</td>\n",
              "      <td>14260</td>\n",
              "      <td>Pave</td>\n",
              "      <td>NaN</td>\n",
              "      <td>IR1</td>\n",
              "      <td>Lvl</td>\n",
              "      <td>AllPub</td>\n",
              "      <td>...</td>\n",
              "      <td>0</td>\n",
              "      <td>NaN</td>\n",
              "      <td>NaN</td>\n",
              "      <td>NaN</td>\n",
              "      <td>0</td>\n",
              "      <td>12</td>\n",
              "      <td>2008</td>\n",
              "      <td>WD</td>\n",
              "      <td>Normal</td>\n",
              "      <td>250000</td>\n",
              "    </tr>\n",
              "  </tbody>\n",
              "</table>\n",
              "<p>5 rows × 81 columns</p>\n",
              "</div>"
            ],
            "text/plain": [
              "   Id  MSSubClass MSZoning  LotFrontage  LotArea Street Alley LotShape  \\\n",
              "0   1          60       RL         65.0     8450   Pave   NaN      Reg   \n",
              "1   2          20       RL         80.0     9600   Pave   NaN      Reg   \n",
              "2   3          60       RL         68.0    11250   Pave   NaN      IR1   \n",
              "3   4          70       RL         60.0     9550   Pave   NaN      IR1   \n",
              "4   5          60       RL         84.0    14260   Pave   NaN      IR1   \n",
              "\n",
              "  LandContour Utilities    ...     PoolArea PoolQC Fence MiscFeature MiscVal  \\\n",
              "0         Lvl    AllPub    ...            0    NaN   NaN         NaN       0   \n",
              "1         Lvl    AllPub    ...            0    NaN   NaN         NaN       0   \n",
              "2         Lvl    AllPub    ...            0    NaN   NaN         NaN       0   \n",
              "3         Lvl    AllPub    ...            0    NaN   NaN         NaN       0   \n",
              "4         Lvl    AllPub    ...            0    NaN   NaN         NaN       0   \n",
              "\n",
              "  MoSold YrSold  SaleType  SaleCondition  SalePrice  \n",
              "0      2   2008        WD         Normal     208500  \n",
              "1      5   2007        WD         Normal     181500  \n",
              "2      9   2008        WD         Normal     223500  \n",
              "3      2   2006        WD        Abnorml     140000  \n",
              "4     12   2008        WD         Normal     250000  \n",
              "\n",
              "[5 rows x 81 columns]"
            ]
          },
          "metadata": {
            "tags": []
          },
          "execution_count": 105
        }
      ]
    },
    {
      "metadata": {
        "id": "l1Sm9r6uMJet",
        "colab_type": "text"
      },
      "cell_type": "markdown",
      "source": [
        "As we can see on the table above, and from the information of the features from this dataset (please refer to [this file](https://drive.google.com/open?id=1uOU5Ps5T3Yiy8IsgyIRWfIvht7C47r9L)), we can see that many of the columns, although they contain `NaN` values (a.k.a, null values on the dataset), many of these correspond to an actual mapping of a feature(e.g., a category for `NA` when the feature does not apply). An example of this is the feature `BsmtQual`, which evaluates the quality of the house's basement, giving a value of `NA` when the house does not include a basement.\n",
        "\n",
        "This means there is a further study to be made, first to determine what are the features that have a value of `NA` as a valid entry on their data, and second to convert these values into something other than `NaN`, in order for the pre-processing tasks to work correctly on these features.\n",
        "\n",
        "\n",
        "---\n",
        "\n",
        "\n",
        "Before that, let's define a function that, given a dataset and a series of features, it will convert all instances of `NaN` into the string `NA`, making the pre-processing task possible."
      ]
    },
    {
      "metadata": {
        "id": "5EpI0_vX_5J7",
        "colab_type": "code",
        "colab": {}
      },
      "cell_type": "code",
      "source": [
        "def convert_nan_to_string(df,keys):\n",
        "    f = lambda x: str(x) + \"\"\n",
        "    g = lambda x: \"NA\" if (x.lower() == \"nan\"  or x == None) else x\n",
        "    \n",
        "    for key in keys:\n",
        "        df[key] = df[key].apply(f).apply(g)\n",
        "    \n",
        "    return df"
      ],
      "execution_count": 0,
      "outputs": []
    },
    {
      "metadata": {
        "id": "YrlmBclXPhDw",
        "colab_type": "text"
      },
      "cell_type": "markdown",
      "source": [
        "Moreover, we will define a function that will take all categorical features of the dataset, and convert them to numerical values, which can be pre-processed and placed in the model for training.\n",
        "\n",
        "This function will combine the `NaN` processing of the features, as well as removing all features that present a `NaN` value after the processing, removing all missing data from the dataset."
      ]
    },
    {
      "metadata": {
        "id": "1qtL-fxf_5KB",
        "colab_type": "code",
        "colab": {}
      },
      "cell_type": "code",
      "source": [
        "def convert_categorical_features(df, keys, nan_keys, drop_keys):\n",
        "    df = convert_nan_to_string(df, nan_keys)\n",
        "    df.dropna(subset=drop_keys, how='any', inplace=True)\n",
        "    le = LabelEncoder()\n",
        "    for key in keys:\n",
        "        df[key] = le.fit_transform(df[key])\n",
        "    return df"
      ],
      "execution_count": 0,
      "outputs": []
    },
    {
      "metadata": {
        "id": "0tBooqbZUQky",
        "colab_type": "text"
      },
      "cell_type": "markdown",
      "source": [
        "By studying the dataset and its features, we can now define what are the categorical values to take into account and also what are the features that contain `NA` as a valid entry, converting them and then enconding them to be used in the pre-processing.\n",
        "\n",
        "\n",
        "---\n",
        "\n",
        "We can see the result of the transformation that we did on these categorical features, meaning we are now ready to create a model."
      ]
    },
    {
      "metadata": {
        "id": "RKkYurag_5KK",
        "colab_type": "code",
        "colab": {
          "base_uri": "https://localhost:8080/",
          "height": 253
        },
        "outputId": "487a5b5d-a4b5-4852-b5e4-5d26ccae8d30"
      },
      "cell_type": "code",
      "source": [
        "categorical_feats = ['MSSubClass', 'MSZoning', 'Street',\n",
        "       'Alley', 'LotShape', 'LandContour', 'Utilities', 'LotConfig',\n",
        "       'LandSlope', 'Neighborhood', 'Condition1', 'Condition2', 'BldgType',\n",
        "       'HouseStyle', 'OverallQual', 'OverallCond', 'YearBuilt', 'YearRemodAdd',\n",
        "       'RoofStyle', 'RoofMatl', 'Exterior1st', 'Exterior2nd', 'MasVnrType', \n",
        "       'ExterQual', 'ExterCond', 'Foundation', 'BsmtQual',\n",
        "       'BsmtCond', 'BsmtExposure', 'BsmtFinType1',\n",
        "       'BsmtFinType2', 'Heating',\n",
        "       'HeatingQC', 'CentralAir', 'Electrical', 'KitchenQual', 'Functional', \n",
        "       'FireplaceQu', 'GarageType', 'GarageFinish', 'GarageQual',\n",
        "       'GarageCond', 'PavedDrive', 'PoolQC',\n",
        "       'Fence', 'MiscFeature', 'SaleType',\n",
        "       'SaleCondition']\n",
        "nan_feats = [\"Alley\", \"BsmtQual\", \"BsmtCond\", \"BsmtExposure\", \"BsmtFinType1\", \n",
        "             \"BsmtFinType2\", \"FireplaceQu\", \"GarageType\", \"GarageFinish\", \n",
        "             \"GarageQual\", \"GarageCond\", \"PoolQC\", \"Fence\", \"MiscFeature\"]\n",
        "drop_feats = [\"MasVnrType\", \"Electrical\"]\n",
        "df = convert_categorical_features(df, categorical_feats, nan_feats, drop_feats)\n",
        "df.head()"
      ],
      "execution_count": 108,
      "outputs": [
        {
          "output_type": "execute_result",
          "data": {
            "text/html": [
              "<div>\n",
              "<style scoped>\n",
              "    .dataframe tbody tr th:only-of-type {\n",
              "        vertical-align: middle;\n",
              "    }\n",
              "\n",
              "    .dataframe tbody tr th {\n",
              "        vertical-align: top;\n",
              "    }\n",
              "\n",
              "    .dataframe thead th {\n",
              "        text-align: right;\n",
              "    }\n",
              "</style>\n",
              "<table border=\"1\" class=\"dataframe\">\n",
              "  <thead>\n",
              "    <tr style=\"text-align: right;\">\n",
              "      <th></th>\n",
              "      <th>Id</th>\n",
              "      <th>MSSubClass</th>\n",
              "      <th>MSZoning</th>\n",
              "      <th>LotFrontage</th>\n",
              "      <th>LotArea</th>\n",
              "      <th>Street</th>\n",
              "      <th>Alley</th>\n",
              "      <th>LotShape</th>\n",
              "      <th>LandContour</th>\n",
              "      <th>Utilities</th>\n",
              "      <th>...</th>\n",
              "      <th>PoolArea</th>\n",
              "      <th>PoolQC</th>\n",
              "      <th>Fence</th>\n",
              "      <th>MiscFeature</th>\n",
              "      <th>MiscVal</th>\n",
              "      <th>MoSold</th>\n",
              "      <th>YrSold</th>\n",
              "      <th>SaleType</th>\n",
              "      <th>SaleCondition</th>\n",
              "      <th>SalePrice</th>\n",
              "    </tr>\n",
              "  </thead>\n",
              "  <tbody>\n",
              "    <tr>\n",
              "      <th>0</th>\n",
              "      <td>1</td>\n",
              "      <td>5</td>\n",
              "      <td>3</td>\n",
              "      <td>65.0</td>\n",
              "      <td>8450</td>\n",
              "      <td>1</td>\n",
              "      <td>1</td>\n",
              "      <td>3</td>\n",
              "      <td>3</td>\n",
              "      <td>0</td>\n",
              "      <td>...</td>\n",
              "      <td>0</td>\n",
              "      <td>3</td>\n",
              "      <td>4</td>\n",
              "      <td>1</td>\n",
              "      <td>0</td>\n",
              "      <td>2</td>\n",
              "      <td>2008</td>\n",
              "      <td>8</td>\n",
              "      <td>4</td>\n",
              "      <td>208500</td>\n",
              "    </tr>\n",
              "    <tr>\n",
              "      <th>1</th>\n",
              "      <td>2</td>\n",
              "      <td>0</td>\n",
              "      <td>3</td>\n",
              "      <td>80.0</td>\n",
              "      <td>9600</td>\n",
              "      <td>1</td>\n",
              "      <td>1</td>\n",
              "      <td>3</td>\n",
              "      <td>3</td>\n",
              "      <td>0</td>\n",
              "      <td>...</td>\n",
              "      <td>0</td>\n",
              "      <td>3</td>\n",
              "      <td>4</td>\n",
              "      <td>1</td>\n",
              "      <td>0</td>\n",
              "      <td>5</td>\n",
              "      <td>2007</td>\n",
              "      <td>8</td>\n",
              "      <td>4</td>\n",
              "      <td>181500</td>\n",
              "    </tr>\n",
              "    <tr>\n",
              "      <th>2</th>\n",
              "      <td>3</td>\n",
              "      <td>5</td>\n",
              "      <td>3</td>\n",
              "      <td>68.0</td>\n",
              "      <td>11250</td>\n",
              "      <td>1</td>\n",
              "      <td>1</td>\n",
              "      <td>0</td>\n",
              "      <td>3</td>\n",
              "      <td>0</td>\n",
              "      <td>...</td>\n",
              "      <td>0</td>\n",
              "      <td>3</td>\n",
              "      <td>4</td>\n",
              "      <td>1</td>\n",
              "      <td>0</td>\n",
              "      <td>9</td>\n",
              "      <td>2008</td>\n",
              "      <td>8</td>\n",
              "      <td>4</td>\n",
              "      <td>223500</td>\n",
              "    </tr>\n",
              "    <tr>\n",
              "      <th>3</th>\n",
              "      <td>4</td>\n",
              "      <td>6</td>\n",
              "      <td>3</td>\n",
              "      <td>60.0</td>\n",
              "      <td>9550</td>\n",
              "      <td>1</td>\n",
              "      <td>1</td>\n",
              "      <td>0</td>\n",
              "      <td>3</td>\n",
              "      <td>0</td>\n",
              "      <td>...</td>\n",
              "      <td>0</td>\n",
              "      <td>3</td>\n",
              "      <td>4</td>\n",
              "      <td>1</td>\n",
              "      <td>0</td>\n",
              "      <td>2</td>\n",
              "      <td>2006</td>\n",
              "      <td>8</td>\n",
              "      <td>0</td>\n",
              "      <td>140000</td>\n",
              "    </tr>\n",
              "    <tr>\n",
              "      <th>4</th>\n",
              "      <td>5</td>\n",
              "      <td>5</td>\n",
              "      <td>3</td>\n",
              "      <td>84.0</td>\n",
              "      <td>14260</td>\n",
              "      <td>1</td>\n",
              "      <td>1</td>\n",
              "      <td>0</td>\n",
              "      <td>3</td>\n",
              "      <td>0</td>\n",
              "      <td>...</td>\n",
              "      <td>0</td>\n",
              "      <td>3</td>\n",
              "      <td>4</td>\n",
              "      <td>1</td>\n",
              "      <td>0</td>\n",
              "      <td>12</td>\n",
              "      <td>2008</td>\n",
              "      <td>8</td>\n",
              "      <td>4</td>\n",
              "      <td>250000</td>\n",
              "    </tr>\n",
              "  </tbody>\n",
              "</table>\n",
              "<p>5 rows × 81 columns</p>\n",
              "</div>"
            ],
            "text/plain": [
              "   Id  MSSubClass  MSZoning  LotFrontage  LotArea  Street  Alley  LotShape  \\\n",
              "0   1           5         3         65.0     8450       1      1         3   \n",
              "1   2           0         3         80.0     9600       1      1         3   \n",
              "2   3           5         3         68.0    11250       1      1         0   \n",
              "3   4           6         3         60.0     9550       1      1         0   \n",
              "4   5           5         3         84.0    14260       1      1         0   \n",
              "\n",
              "   LandContour  Utilities    ...      PoolArea  PoolQC  Fence  MiscFeature  \\\n",
              "0            3          0    ...             0       3      4            1   \n",
              "1            3          0    ...             0       3      4            1   \n",
              "2            3          0    ...             0       3      4            1   \n",
              "3            3          0    ...             0       3      4            1   \n",
              "4            3          0    ...             0       3      4            1   \n",
              "\n",
              "   MiscVal  MoSold  YrSold  SaleType  SaleCondition  SalePrice  \n",
              "0        0       2    2008         8              4     208500  \n",
              "1        0       5    2007         8              4     181500  \n",
              "2        0       9    2008         8              4     223500  \n",
              "3        0       2    2006         8              0     140000  \n",
              "4        0      12    2008         8              4     250000  \n",
              "\n",
              "[5 rows x 81 columns]"
            ]
          },
          "metadata": {
            "tags": []
          },
          "execution_count": 108
        }
      ]
    },
    {
      "metadata": {
        "id": "UmTvHXjWWXw2",
        "colab_type": "text"
      },
      "cell_type": "markdown",
      "source": [
        "We will define our predictor and output columns, and create our variables based on them"
      ]
    },
    {
      "metadata": {
        "id": "uukR5Ezo_5KU",
        "colab_type": "code",
        "colab": {}
      },
      "cell_type": "code",
      "source": [
        "train_cols = ['MSSubClass', 'MSZoning', 'LotFrontage', 'LotArea', 'Street',\n",
        "       'Alley', 'LotShape', 'LandContour', 'Utilities', 'LotConfig',\n",
        "       'LandSlope', 'Neighborhood', 'Condition1', 'Condition2', 'BldgType',\n",
        "       'HouseStyle', 'OverallQual', 'OverallCond', 'YearBuilt', 'YearRemodAdd',\n",
        "       'RoofStyle', 'RoofMatl', 'Exterior1st', 'Exterior2nd', 'MasVnrType',\n",
        "       'MasVnrArea', 'ExterQual', 'ExterCond', 'Foundation', 'BsmtQual',\n",
        "       'BsmtCond', 'BsmtExposure', 'BsmtFinType1', 'BsmtFinSF1',\n",
        "       'BsmtFinType2', 'BsmtFinSF2', 'BsmtUnfSF', 'TotalBsmtSF', 'Heating',\n",
        "       'HeatingQC', 'CentralAir', 'Electrical', '1stFlrSF', '2ndFlrSF',\n",
        "       'LowQualFinSF', 'GrLivArea', 'BsmtFullBath', 'BsmtHalfBath', 'FullBath',\n",
        "       'HalfBath', 'BedroomAbvGr', 'KitchenAbvGr', 'KitchenQual',\n",
        "       'TotRmsAbvGrd', 'Functional', 'Fireplaces', 'FireplaceQu', 'GarageType',\n",
        "       'GarageFinish', 'GarageCars', 'GarageArea', 'GarageQual',\n",
        "       'GarageCond', 'PavedDrive', 'WoodDeckSF', 'OpenPorchSF',\n",
        "       'EnclosedPorch', '3SsnPorch', 'ScreenPorch', 'PoolArea', 'PoolQC',\n",
        "       'Fence', 'MiscFeature', 'MiscVal', 'SaleType',\n",
        "       'SaleCondition']\n",
        "predict_col = 'SalePrice'\n",
        "categorical_feats = ['MSSubClass', 'MSZoning', 'Street',\n",
        "       'Alley', 'LotShape', 'LandContour', 'Utilities', 'LotConfig',\n",
        "       'LandSlope', 'Neighborhood', 'Condition1', 'Condition2', 'BldgType',\n",
        "       'HouseStyle', 'OverallQual', 'OverallCond', 'YearBuilt', 'YearRemodAdd',\n",
        "       'RoofStyle', 'RoofMatl', 'Exterior1st', 'Exterior2nd', 'MasVnrType', \n",
        "       'ExterQual', 'ExterCond', 'Foundation', 'BsmtQual',\n",
        "       'BsmtCond', 'BsmtExposure', 'BsmtFinType1',\n",
        "       'BsmtFinType2', 'Heating',\n",
        "       'HeatingQC', 'CentralAir', 'Electrical', 'KitchenQual', 'Functional', \n",
        "       'FireplaceQu', 'GarageType', 'GarageFinish', 'GarageQual',\n",
        "       'GarageCond', 'PavedDrive', 'PoolQC',\n",
        "       'Fence', 'MiscFeature', 'SaleType',\n",
        "       'SaleCondition']\n",
        "X = df[train_cols]\n",
        "y = df[predict_col]"
      ],
      "execution_count": 0,
      "outputs": []
    },
    {
      "metadata": {
        "id": "apdQOc70WdWE",
        "colab_type": "text"
      },
      "cell_type": "markdown",
      "source": [
        "In order to do handle the categorical features of our model, we need to do a One-Hot-Encoding on the variables in question. In order to do this we need to define what are the columns containing categorical values, and get their indices in order to use them in the One-Hot-Encoding process."
      ]
    },
    {
      "metadata": {
        "id": "Ry5-nWF9_5KZ",
        "colab_type": "code",
        "colab": {}
      },
      "cell_type": "code",
      "source": [
        "columns = X.columns\n",
        "idx_categorical_feats = [np.argwhere(columns == i)[0][0] for i in categorical_feats]"
      ],
      "execution_count": 0,
      "outputs": []
    },
    {
      "metadata": {
        "id": "TWn7u5P-XTkw",
        "colab_type": "text"
      },
      "cell_type": "markdown",
      "source": [
        "We can proceed on dividing the variables for training and testing purposes."
      ]
    },
    {
      "metadata": {
        "id": "58wWcZH0_5Kd",
        "colab_type": "code",
        "colab": {}
      },
      "cell_type": "code",
      "source": [
        "X_train, X_test, y_train, y_test = train_test_split(X,y, test_size=0.3)"
      ],
      "execution_count": 0,
      "outputs": []
    },
    {
      "metadata": {
        "id": "Vr5ZSCExXZ2T",
        "colab_type": "text"
      },
      "cell_type": "markdown",
      "source": [
        "We can create our first model, which will include all pre-processing tasks on the variables"
      ]
    },
    {
      "metadata": {
        "id": "FdllqJ0k_5Ki",
        "colab_type": "code",
        "colab": {}
      },
      "cell_type": "code",
      "source": [
        "model = Pipeline([\n",
        "    ('imp', Imputer(missing_values='NaN', strategy='median')),\n",
        "    ('encoder', OneHotEncoder(categorical_features=idx_categorical_feats, handle_unknown='ignore')),\n",
        "    ('scaler', MaxAbsScaler()),\n",
        "    ('regressor', Lasso(fit_intercept=True))\n",
        "])"
      ],
      "execution_count": 0,
      "outputs": []
    },
    {
      "metadata": {
        "id": "amRdx8A0lnB4",
        "colab_type": "text"
      },
      "cell_type": "markdown",
      "source": [
        "Let's fit our model with the training parameters and let it try and predict the values for our training and testing sets. This is in order to get the prediction error for both training and testing using the `mean_absolute_error` metric"
      ]
    },
    {
      "metadata": {
        "id": "QzcOo59I_5Km",
        "colab_type": "code",
        "colab": {
          "base_uri": "https://localhost:8080/",
          "height": 71
        },
        "outputId": "fceee357-44a6-4148-8ab1-d354d513358a"
      },
      "cell_type": "code",
      "source": [
        "model.fit(X_train, y_train)\n",
        "y_train_pred= model.predict(X_train)\n",
        "y_test_pred = model.predict(X_test)"
      ],
      "execution_count": 113,
      "outputs": [
        {
          "output_type": "stream",
          "text": [
            "/usr/local/lib/python3.6/dist-packages/sklearn/linear_model/coordinate_descent.py:491: ConvergenceWarning: Objective did not converge. You might want to increase the number of iterations. Fitting data with very small alpha may cause precision problems.\n",
            "  ConvergenceWarning)\n"
          ],
          "name": "stderr"
        }
      ]
    },
    {
      "metadata": {
        "id": "xtWRk6SJl4CF",
        "colab_type": "text"
      },
      "cell_type": "markdown",
      "source": [
        "We can then calculate the `mean_absolute_error` for both the training and testing sets, as well as the scoring for the model,  which will give us a value of the overall accuracy."
      ]
    },
    {
      "metadata": {
        "id": "bq17mCpU_5Ks",
        "colab_type": "code",
        "colab": {
          "base_uri": "https://localhost:8080/",
          "height": 85
        },
        "outputId": "019e7740-aaaf-4013-b137-384be67c4e3f"
      },
      "cell_type": "code",
      "source": [
        "mae_train = mean_absolute_error(y_pred=y_train_pred, y_true=y_train)\n",
        "mae_test  = mean_absolute_error(y_pred=y_test_pred, y_true=y_test)\n",
        "msg = \"Mean Absolute Error with basic model: {}\"\n",
        "print(msg.format(mae_train))\n",
        "print(msg.format(mae_test))\n",
        "print(\"Model train score: {}\".format(model.score(X_train, y_train)))\n",
        "print(\"Model test score: {}\".format(model.score(X_test, y_test)))"
      ],
      "execution_count": 114,
      "outputs": [
        {
          "output_type": "stream",
          "text": [
            "Mean Absolute Error with basic model: 9683.873548336414\n",
            "Mean Absolute Error with basic model: 20697.70037498356\n",
            "Model train score: 0.9657959584050217\n",
            "Model test score: 0.8123483656390769\n"
          ],
          "name": "stdout"
        }
      ]
    },
    {
      "metadata": {
        "id": "D2u_ch6tn8yP",
        "colab_type": "text"
      },
      "cell_type": "markdown",
      "source": [
        "As we can see from the information above the model behaved very well for the training dataset, but when it came to the testing dataset its performance was poor at best, leading to a lower accuracy on testing than on training.\n",
        "This is a telltale sign of data overfitting, which means we need a better approach on our model selection process."
      ]
    },
    {
      "metadata": {
        "id": "y1ywvdOVoisN",
        "colab_type": "text"
      },
      "cell_type": "markdown",
      "source": [
        "In order to avoid having to select and cross-validate various models by hand we can do an automated search and cross validation which will then give us the best possible model and use it as an improvement for our estimations.\n",
        "We will use a `RandomSearchCV`, since it allows for a faster search and good results with the caveat that it will not do an in-depth search through all the parameter space but rather select several samples and compare them. In theory it means that the search might yield sub-optimal results when compared with an in-depth approach but in practice, given a sufficiently narrow parameter space, it can yield a result that works best for our computing or time constraints.\n",
        "\n",
        "---\n",
        "\n",
        "For our specific model, the parameter that we will vary is the `alpha`, which serves as a scale for the weights defined by the cost function. For more information you can see the optimization objective for the Lasso function [here](http://scikit-learn.org/stable/modules/generated/sklearn.linear_model.Lasso.html)"
      ]
    },
    {
      "metadata": {
        "id": "Vyz5pzu7_5Kz",
        "colab_type": "code",
        "colab": {}
      },
      "cell_type": "code",
      "source": [
        "param_space = {\n",
        "    'regressor__alpha': [0.001, 0.01, 0.1, 1, 10, 100, 1000]\n",
        "}\n",
        "\n",
        "rand_search = RandomizedSearchCV(param_distributions=param_space, estimator=model, scoring='neg_mean_absolute_error', n_iter=4, cv=5, return_train_score=True)"
      ],
      "execution_count": 0,
      "outputs": []
    },
    {
      "metadata": {
        "id": "y8w77Us_-ENJ",
        "colab_type": "text"
      },
      "cell_type": "markdown",
      "source": [
        "We will then start the search of the best model, defined by the parameters and the scoring passed to the `RandomSearchCV`"
      ]
    },
    {
      "metadata": {
        "id": "ISlf9rwr_5K5",
        "colab_type": "code",
        "colab": {
          "base_uri": "https://localhost:8080/",
          "height": 530
        },
        "outputId": "4554c480-86fc-4c20-a1de-e85c23da3096"
      },
      "cell_type": "code",
      "source": [
        "rand_search.fit(X_train, y_train)"
      ],
      "execution_count": 116,
      "outputs": [
        {
          "output_type": "stream",
          "text": [
            "/usr/local/lib/python3.6/dist-packages/sklearn/linear_model/coordinate_descent.py:491: ConvergenceWarning: Objective did not converge. You might want to increase the number of iterations. Fitting data with very small alpha may cause precision problems.\n",
            "  ConvergenceWarning)\n",
            "/usr/local/lib/python3.6/dist-packages/sklearn/linear_model/coordinate_descent.py:491: ConvergenceWarning: Objective did not converge. You might want to increase the number of iterations. Fitting data with very small alpha may cause precision problems.\n",
            "  ConvergenceWarning)\n",
            "/usr/local/lib/python3.6/dist-packages/sklearn/linear_model/coordinate_descent.py:491: ConvergenceWarning: Objective did not converge. You might want to increase the number of iterations. Fitting data with very small alpha may cause precision problems.\n",
            "  ConvergenceWarning)\n",
            "/usr/local/lib/python3.6/dist-packages/sklearn/linear_model/coordinate_descent.py:491: ConvergenceWarning: Objective did not converge. You might want to increase the number of iterations. Fitting data with very small alpha may cause precision problems.\n",
            "  ConvergenceWarning)\n",
            "/usr/local/lib/python3.6/dist-packages/sklearn/linear_model/coordinate_descent.py:491: ConvergenceWarning: Objective did not converge. You might want to increase the number of iterations. Fitting data with very small alpha may cause precision problems.\n",
            "  ConvergenceWarning)\n",
            "/usr/local/lib/python3.6/dist-packages/sklearn/linear_model/coordinate_descent.py:491: ConvergenceWarning: Objective did not converge. You might want to increase the number of iterations. Fitting data with very small alpha may cause precision problems.\n",
            "  ConvergenceWarning)\n",
            "/usr/local/lib/python3.6/dist-packages/sklearn/linear_model/coordinate_descent.py:491: ConvergenceWarning: Objective did not converge. You might want to increase the number of iterations. Fitting data with very small alpha may cause precision problems.\n",
            "  ConvergenceWarning)\n",
            "/usr/local/lib/python3.6/dist-packages/sklearn/linear_model/coordinate_descent.py:491: ConvergenceWarning: Objective did not converge. You might want to increase the number of iterations. Fitting data with very small alpha may cause precision problems.\n",
            "  ConvergenceWarning)\n",
            "/usr/local/lib/python3.6/dist-packages/sklearn/linear_model/coordinate_descent.py:491: ConvergenceWarning: Objective did not converge. You might want to increase the number of iterations. Fitting data with very small alpha may cause precision problems.\n",
            "  ConvergenceWarning)\n",
            "/usr/local/lib/python3.6/dist-packages/sklearn/linear_model/coordinate_descent.py:491: ConvergenceWarning: Objective did not converge. You might want to increase the number of iterations. Fitting data with very small alpha may cause precision problems.\n",
            "  ConvergenceWarning)\n"
          ],
          "name": "stderr"
        },
        {
          "output_type": "execute_result",
          "data": {
            "text/plain": [
              "RandomizedSearchCV(cv=5, error_score='raise',\n",
              "          estimator=Pipeline(memory=None,\n",
              "     steps=[('imp', Imputer(axis=0, copy=True, missing_values='NaN', strategy='median', verbose=0)), ('encoder', OneHotEncoder(categorical_features=[0, 1, 4, 5, 6, 7, 8, 9, 10, 11, 12, 13, 14, 15, 16, 17, 18, 19, 20, 21, 22, 23, 24, 26, 27, 28, 29, 30, 31, 32, 34, 38, 39, 40, 41, 52, 54, 56, 57, 58, 61, ...e=False, precompute=False, random_state=None,\n",
              "   selection='cyclic', tol=0.0001, warm_start=False))]),\n",
              "          fit_params=None, iid=True, n_iter=4, n_jobs=1,\n",
              "          param_distributions={'regressor__alpha': [0.001, 0.01, 0.1, 1, 10, 100, 1000]},\n",
              "          pre_dispatch='2*n_jobs', random_state=None, refit=True,\n",
              "          return_train_score=True, scoring='neg_mean_absolute_error',\n",
              "          verbose=0)"
            ]
          },
          "metadata": {
            "tags": []
          },
          "execution_count": 116
        }
      ]
    },
    {
      "metadata": {
        "id": "sTjALYqeAf-P",
        "colab_type": "text"
      },
      "cell_type": "markdown",
      "source": [
        "We see that an estimator was found, and we can check what its score is (a.k.a, the `mean_absolute_error`). We need to recall that, since the `RandomSearchCV` gives greater importance to greater values of the metric, we needed to pass the `neg_mean_absolute_error` in order to minimize the absolute error."
      ]
    },
    {
      "metadata": {
        "id": "ChlaJqdb_5LD",
        "colab_type": "code",
        "colab": {
          "base_uri": "https://localhost:8080/",
          "height": 54
        },
        "outputId": "bc90e0e5-58ac-42d8-bdab-82ed3f92ac94"
      },
      "cell_type": "code",
      "source": [
        "rand_search.best_score_"
      ],
      "execution_count": 117,
      "outputs": [
        {
          "output_type": "execute_result",
          "data": {
            "text/plain": [
              "-16121.234412392263"
            ]
          },
          "metadata": {
            "tags": []
          },
          "execution_count": 117
        }
      ]
    },
    {
      "metadata": {
        "id": "JU2nRRvsBAF3",
        "colab_type": "text"
      },
      "cell_type": "markdown",
      "source": [
        "We can also check what the best parameters from our parameter space are. In our case, only the `alpha` parameter was passed, so it is the only value in the dictionary of parameters."
      ]
    },
    {
      "metadata": {
        "id": "CX0lobnf_5LK",
        "colab_type": "code",
        "colab": {
          "base_uri": "https://localhost:8080/",
          "height": 34
        },
        "outputId": "e99e2867-468c-4c1a-c512-20bd26382926"
      },
      "cell_type": "code",
      "source": [
        "rand_search.best_params_"
      ],
      "execution_count": 118,
      "outputs": [
        {
          "output_type": "execute_result",
          "data": {
            "text/plain": [
              "{'regressor__alpha': 100}"
            ]
          },
          "metadata": {
            "tags": []
          },
          "execution_count": 118
        }
      ]
    },
    {
      "metadata": {
        "id": "n21tKUqVcI6u",
        "colab_type": "text"
      },
      "cell_type": "markdown",
      "source": [
        "This function will help us see more clearly the results of the random search. This will show us the mean score for each iteration between all cross-validations, as well as the standard deviation for that same iteration"
      ]
    },
    {
      "metadata": {
        "id": "0JaOMM_dFbwp",
        "colab_type": "code",
        "colab": {}
      },
      "cell_type": "code",
      "source": [
        "def pretty_print_split_results(results_dict, n_iter):\n",
        "  iter_range = range(1, n_iter+1)\n",
        "  print_colors = ['b', 'g', 'r', 'c', 'm', 'y', 'k', 'w']\n",
        "  line_styles = ['-', '--', '-.', ':']\n",
        "  marker_styles= ['s','o']\n",
        "  fig = plt.figure(figsize=(9,7))\n",
        "  ax = fig.add_subplot(111)\n",
        "  \n",
        "  mean_test_score = results_dict['mean_test_score']\n",
        "  std_test_score  = results_dict['std_test_score']\n",
        "  \n",
        "  mean_train_score = results_dict['mean_train_score']\n",
        "  std_train_score = results_dict['std_train_score']\n",
        "  \n",
        "  ax.plot(\n",
        "    iter_range, mean_test_score, color=\"b\",\n",
        "    marker=\"s\", linestyle=\"--\", markersize=\"5\",\n",
        "    label=\"Mean Test Score\"\n",
        "  )\n",
        "  \n",
        "  ax.fill_between(\n",
        "    iter_range, mean_test_score + std_test_score, mean_test_score - std_test_score,\n",
        "    alpha=0.25, color=\"b\"\n",
        "  )\n",
        "  \n",
        "  ax.plot(\n",
        "    iter_range, mean_train_score, color=\"g\",\n",
        "    marker=\"o\", linestyle=\"-\", markersize=\"5\",\n",
        "    label=\"Mean Train Score\"\n",
        "  )\n",
        "  \n",
        "  ax.fill_between(\n",
        "    iter_range, mean_train_score + std_train_score, mean_train_score - std_train_score,\n",
        "    alpha=0.25, color=\"g\"\n",
        "  )\n",
        "  \n",
        "  ax.set_xlabel(\"Iterations\")\n",
        "  ax.set_ylabel(\"Scores\")\n",
        "  ax.set_ylim(auto=True)\n",
        "  ax.grid(linestyle=\"--\")\n",
        "  ax.legend(loc=\"lower right\")\n",
        "  "
      ],
      "execution_count": 0,
      "outputs": []
    },
    {
      "metadata": {
        "id": "qBB2iKF_dhHS",
        "colab_type": "text"
      },
      "cell_type": "markdown",
      "source": [
        "With this function then we can see the process for the random search to select the best model from a random selection, and how each result varied for each iteration\n"
      ]
    },
    {
      "metadata": {
        "id": "bRDH0P1zUPy_",
        "colab_type": "code",
        "colab": {
          "base_uri": "https://localhost:8080/",
          "height": 442
        },
        "outputId": "df59e989-4f80-476e-f183-46aa0f9d2527"
      },
      "cell_type": "code",
      "source": [
        "pretty_print_split_results(rand_search.cv_results_, rand_search.get_params()['n_iter'])"
      ],
      "execution_count": 120,
      "outputs": [
        {
          "output_type": "display_data",
          "data": {
            "image/png": "[encoded data removed]",
            "text/plain": [
              "<matplotlib.figure.Figure at 0x7fa3156fab00>"
            ]
          },
          "metadata": {
            "tags": []
          }
        }
      ]
    },
    {
      "metadata": {
        "id": "S1WWBiIoeKrr",
        "colab_type": "text"
      },
      "cell_type": "markdown",
      "source": [
        "We can now proceed to get the best estimator selected by the random search, and check the values for the training and test datasets, and see what the accuracy for this model will be"
      ]
    },
    {
      "metadata": {
        "id": "ZfbA2dYx_5LV",
        "colab_type": "code",
        "colab": {}
      },
      "cell_type": "code",
      "source": [
        "rand_model = rand_search.best_estimator_\n",
        "y_train_pred= rand_model.predict(X_train)\n",
        "y_test_pred = rand_model.predict(X_test)"
      ],
      "execution_count": 0,
      "outputs": []
    },
    {
      "metadata": {
        "id": "fQDDkoQDe_F2",
        "colab_type": "text"
      },
      "cell_type": "markdown",
      "source": [
        "In general, we should see that there was an improvement on the scores from just the sole estimator that we defined, since it was chosen from the cross-validation process of the `RandomSearchCV`, but we need to keep in mind that this might not always be the case, again from the intrinsic randomness on the process."
      ]
    },
    {
      "metadata": {
        "id": "LJFReSyJ_5La",
        "colab_type": "code",
        "colab": {
          "base_uri": "https://localhost:8080/",
          "height": 85
        },
        "outputId": "69ca387f-caf5-4c1e-d2ef-964da15a041c"
      },
      "cell_type": "code",
      "source": [
        "mae_train = mean_absolute_error(y_pred=y_train_pred, y_true=y_train)\n",
        "mae_test  = mean_absolute_error(y_pred=y_test_pred, y_true=y_test)\n",
        "msg = \"Mean Absolute Error with Lasso model from random search: {}\"\n",
        "print(msg.format(mae_train))\n",
        "print(msg.format(mae_test))\n",
        "print(\"Model train score: {}\".format(rand_model.score(X_train, y_train)))\n",
        "print(\"Model test score: {}\".format(rand_model.score(X_test, y_test)))"
      ],
      "execution_count": 122,
      "outputs": [
        {
          "output_type": "stream",
          "text": [
            "Mean Absolute Error with Lasso model from random search: 13249.918325626511\n",
            "Mean Absolute Error with Lasso model from random search: 18049.70381408049\n",
            "Model train score: 0.9356469689943616\n",
            "Model test score: 0.8471608172298151\n"
          ],
          "name": "stdout"
        }
      ]
    },
    {
      "metadata": {
        "id": "x_QPfXKCfahg",
        "colab_type": "text"
      },
      "cell_type": "markdown",
      "source": [
        "We will now re-do the same process, this time selecting a non-linear model. Since we have a lot of categorical data, the best model to deal with this kind of data is a `RandomForestRegressor`, since decision trees are very well equiped to deal with incoming categorical data.\n",
        "\n",
        "We re-define the parameter space to search the best `RandomForestRegressor`, and for this we will vary 2 hyper-parameters for forests: `n_estimators`, which is the number of trees in the forest; `max_depth`, which is the number of layers that a given tree will have to make its decision."
      ]
    },
    {
      "metadata": {
        "id": "WKJspkpP_5Lh",
        "colab_type": "code",
        "colab": {}
      },
      "cell_type": "code",
      "source": [
        "param_space = {\n",
        "    'regressor__n_estimators': [1, 10, 20, 50, 100],\n",
        "    'regressor__max_depth': [1, 2, 5, 10, 20]\n",
        "}\n",
        "\n",
        "model2 = Pipeline([\n",
        "    ('imp', Imputer(missing_values='NaN', strategy='median')),\n",
        "    ('regressor', RandomForestRegressor())\n",
        "])\n",
        "\n",
        "rand_search = RandomizedSearchCV(param_distributions=param_space, estimator=model2, scoring='neg_mean_absolute_error', n_iter=4, cv=5, return_train_score=True)"
      ],
      "execution_count": 0,
      "outputs": []
    },
    {
      "metadata": {
        "id": "qC2XEOX0hjfI",
        "colab_type": "text"
      },
      "cell_type": "markdown",
      "source": [
        "We then proceed to train our new random search with the `RandomForestRegressor` model"
      ]
    },
    {
      "metadata": {
        "id": "RjjVHMw2_5Ln",
        "colab_type": "code",
        "colab": {
          "base_uri": "https://localhost:8080/",
          "height": 224
        },
        "outputId": "b8c98050-3a71-41ea-a944-9f901f4c1bfa"
      },
      "cell_type": "code",
      "source": [
        "rand_search.fit(X_train, y_train)"
      ],
      "execution_count": 124,
      "outputs": [
        {
          "output_type": "execute_result",
          "data": {
            "text/plain": [
              "RandomizedSearchCV(cv=5, error_score='raise',\n",
              "          estimator=Pipeline(memory=None,\n",
              "     steps=[('imp', Imputer(axis=0, copy=True, missing_values='NaN', strategy='median', verbose=0)), ('regressor', RandomForestRegressor(bootstrap=True, criterion='mse', max_depth=None,\n",
              "           max_features='auto', max_leaf_nodes=None,\n",
              "           min_impurity_decre...imators=10, n_jobs=1,\n",
              "           oob_score=False, random_state=None, verbose=0, warm_start=False))]),\n",
              "          fit_params=None, iid=True, n_iter=4, n_jobs=1,\n",
              "          param_distributions={'regressor__n_estimators': [1, 10, 20, 50, 100], 'regressor__max_depth': [1, 2, 5, 10, 20]},\n",
              "          pre_dispatch='2*n_jobs', random_state=None, refit=True,\n",
              "          return_train_score=True, scoring='neg_mean_absolute_error',\n",
              "          verbose=0)"
            ]
          },
          "metadata": {
            "tags": []
          },
          "execution_count": 124
        }
      ]
    },
    {
      "metadata": {
        "id": "viH_T1LFjCEb",
        "colab_type": "text"
      },
      "cell_type": "markdown",
      "source": [
        "We can check the best score for this given search"
      ]
    },
    {
      "metadata": {
        "id": "FcBHAQmB_5Lx",
        "colab_type": "code",
        "colab": {
          "base_uri": "https://localhost:8080/",
          "height": 34
        },
        "outputId": "156b97be-5858-43c9-abb5-5021544054d0"
      },
      "cell_type": "code",
      "source": [
        "rand_search.best_score_"
      ],
      "execution_count": 125,
      "outputs": [
        {
          "output_type": "execute_result",
          "data": {
            "text/plain": [
              "-17707.49119748575"
            ]
          },
          "metadata": {
            "tags": []
          },
          "execution_count": 125
        }
      ]
    },
    {
      "metadata": {
        "id": "FgU4F_Q2jTRf",
        "colab_type": "text"
      },
      "cell_type": "markdown",
      "source": [
        "And we see that, since our parameter space consisted on 2 variables, the best parameters dictionary now contains 2 different keys"
      ]
    },
    {
      "metadata": {
        "id": "y2JNsMbm_5L1",
        "colab_type": "code",
        "colab": {
          "base_uri": "https://localhost:8080/",
          "height": 34
        },
        "outputId": "e14b6699-91b5-4cfb-cfeb-c972f27d2cbe"
      },
      "cell_type": "code",
      "source": [
        "rand_search.best_params_"
      ],
      "execution_count": 126,
      "outputs": [
        {
          "output_type": "execute_result",
          "data": {
            "text/plain": [
              "{'regressor__max_depth': 10, 'regressor__n_estimators': 100}"
            ]
          },
          "metadata": {
            "tags": []
          },
          "execution_count": 126
        }
      ]
    },
    {
      "metadata": {
        "id": "SvYym-kgje52",
        "colab_type": "text"
      },
      "cell_type": "markdown",
      "source": [
        "We can see the variation for each iteration on this `RandomForestRegressor` search"
      ]
    },
    {
      "metadata": {
        "id": "PIsRzr3u_5L5",
        "colab_type": "code",
        "colab": {
          "base_uri": "https://localhost:8080/",
          "height": 442
        },
        "outputId": "fbd03810-dce0-4233-c464-62183e26c8b6"
      },
      "cell_type": "code",
      "source": [
        "pretty_print_split_results(rand_search.cv_results_, rand_search.get_params()['n_iter'])"
      ],
      "execution_count": 127,
      "outputs": [
        {
          "output_type": "display_data",
          "data": {
            "image/png": "[encoded data removed]",
            "text/plain": [
              "<matplotlib.figure.Figure at 0x7fa315682f28>"
            ]
          },
          "metadata": {
            "tags": []
          }
        }
      ]
    },
    {
      "metadata": {
        "id": "wk4NsJQrjuz9",
        "colab_type": "text"
      },
      "cell_type": "markdown",
      "source": [
        "We can now proceed to get the best estimator selected by the random search, and check the values for the training and test datasets, and see what the accuracy for this model will be"
      ]
    },
    {
      "metadata": {
        "id": "Qyfl65qU_5MA",
        "colab_type": "code",
        "colab": {}
      },
      "cell_type": "code",
      "source": [
        "rand_model = rand_search.best_estimator_\n",
        "y_train_pred= rand_model.predict(X_train)\n",
        "y_test_pred = rand_model.predict(X_test)"
      ],
      "execution_count": 0,
      "outputs": []
    },
    {
      "metadata": {
        "id": "Vx7O31NEjxDw",
        "colab_type": "text"
      },
      "cell_type": "markdown",
      "source": [
        "Since the `RandomForestRegressor` is prone to overfitting, the results that we get here might be worse than our previous search. This could be mitigated either with more data, or re-defining the parameter space in order to mitigate the overfitting efect"
      ]
    },
    {
      "metadata": {
        "id": "lqmAcBo7_5MC",
        "colab_type": "code",
        "colab": {
          "base_uri": "https://localhost:8080/",
          "height": 85
        },
        "outputId": "1a198342-dfe4-4f62-8654-e56cc82bbed7"
      },
      "cell_type": "code",
      "source": [
        "mae_train = mean_absolute_error(y_pred=y_train_pred, y_true=y_train)\n",
        "mae_test  = mean_absolute_error(y_pred=y_test_pred, y_true=y_test)\n",
        "msg = \"Mean Absolute Error with Random Forest model from random search: {}\"\n",
        "print(msg.format(mae_train))\n",
        "print(msg.format(mae_test))\n",
        "print(\"Model train score: {}\".format(rand_model.score(X_train, y_train)))\n",
        "print(\"Model test score: {}\".format(rand_model.score(X_test, y_test)))"
      ],
      "execution_count": 129,
      "outputs": [
        {
          "output_type": "stream",
          "text": [
            "Mean Absolute Error with Random Forest model from random search: 7474.1341743955545\n",
            "Mean Absolute Error with Random Forest model from random search: 20520.47558404813\n",
            "Model train score: 0.9761437873524401\n",
            "Model test score: 0.8133913948603483\n"
          ],
          "name": "stdout"
        }
      ]
    },
    {
      "metadata": {
        "id": "SVQi8n_SkAcm",
        "colab_type": "text"
      },
      "cell_type": "markdown",
      "source": [
        "This was all done doing random searches, but I can easily feel unhappy with the results, and given the fact that the searches we just did were done at random, I would like to do a more thorough search of the model. In that case we can use `GridSearchCV` which will make a thorough search of the hyperparameters defined.\n",
        "\n",
        "Let's try a `GridSearchCV` on the `Lasso` model, and check how it changes from the random search made earlier.\n",
        "\n",
        "We define the parameter space again, only this time we'll pass it to a given `GridSearchCV`"
      ]
    },
    {
      "metadata": {
        "id": "q5n4RnnDmruV",
        "colab_type": "code",
        "colab": {}
      },
      "cell_type": "code",
      "source": [
        "param_space = {\n",
        "    'regressor__alpha': [0.001, 0.01, 0.1, 1, 10, 100, 1000]\n",
        "}\n",
        "\n",
        "grid_search = GridSearchCV(param_grid=param_space, estimator=model, scoring='neg_mean_absolute_error', cv=5, return_train_score=True)"
      ],
      "execution_count": 0,
      "outputs": []
    },
    {
      "metadata": {
        "id": "8W26F6Dx-LYe",
        "colab_type": "text"
      },
      "cell_type": "markdown",
      "source": [
        "Since now we're doing an exhaustive search, the training of the model will take longer, but since it's taking into account all possible combinations, we can be sure that the best model given the parameter space we're using is found through this method."
      ]
    },
    {
      "metadata": {
        "id": "nfxUhAjHnoha",
        "colab_type": "code",
        "colab": {
          "base_uri": "https://localhost:8080/",
          "height": 989
        },
        "outputId": "8fd543c0-d99a-4d4a-8e08-4bc543e5e832"
      },
      "cell_type": "code",
      "source": [
        "grid_search.fit(X_train, y_train)"
      ],
      "execution_count": 131,
      "outputs": [
        {
          "output_type": "stream",
          "text": [
            "/usr/local/lib/python3.6/dist-packages/sklearn/linear_model/coordinate_descent.py:491: ConvergenceWarning: Objective did not converge. You might want to increase the number of iterations. Fitting data with very small alpha may cause precision problems.\n",
            "  ConvergenceWarning)\n",
            "/usr/local/lib/python3.6/dist-packages/sklearn/linear_model/coordinate_descent.py:491: ConvergenceWarning: Objective did not converge. You might want to increase the number of iterations. Fitting data with very small alpha may cause precision problems.\n",
            "  ConvergenceWarning)\n",
            "/usr/local/lib/python3.6/dist-packages/sklearn/linear_model/coordinate_descent.py:491: ConvergenceWarning: Objective did not converge. You might want to increase the number of iterations. Fitting data with very small alpha may cause precision problems.\n",
            "  ConvergenceWarning)\n",
            "/usr/local/lib/python3.6/dist-packages/sklearn/linear_model/coordinate_descent.py:491: ConvergenceWarning: Objective did not converge. You might want to increase the number of iterations. Fitting data with very small alpha may cause precision problems.\n",
            "  ConvergenceWarning)\n",
            "/usr/local/lib/python3.6/dist-packages/sklearn/linear_model/coordinate_descent.py:491: ConvergenceWarning: Objective did not converge. You might want to increase the number of iterations. Fitting data with very small alpha may cause precision problems.\n",
            "  ConvergenceWarning)\n",
            "/usr/local/lib/python3.6/dist-packages/sklearn/linear_model/coordinate_descent.py:491: ConvergenceWarning: Objective did not converge. You might want to increase the number of iterations. Fitting data with very small alpha may cause precision problems.\n",
            "  ConvergenceWarning)\n",
            "/usr/local/lib/python3.6/dist-packages/sklearn/linear_model/coordinate_descent.py:491: ConvergenceWarning: Objective did not converge. You might want to increase the number of iterations. Fitting data with very small alpha may cause precision problems.\n",
            "  ConvergenceWarning)\n",
            "/usr/local/lib/python3.6/dist-packages/sklearn/linear_model/coordinate_descent.py:491: ConvergenceWarning: Objective did not converge. You might want to increase the number of iterations. Fitting data with very small alpha may cause precision problems.\n",
            "  ConvergenceWarning)\n",
            "/usr/local/lib/python3.6/dist-packages/sklearn/linear_model/coordinate_descent.py:491: ConvergenceWarning: Objective did not converge. You might want to increase the number of iterations. Fitting data with very small alpha may cause precision problems.\n",
            "  ConvergenceWarning)\n",
            "/usr/local/lib/python3.6/dist-packages/sklearn/linear_model/coordinate_descent.py:491: ConvergenceWarning: Objective did not converge. You might want to increase the number of iterations. Fitting data with very small alpha may cause precision problems.\n",
            "  ConvergenceWarning)\n",
            "/usr/local/lib/python3.6/dist-packages/sklearn/linear_model/coordinate_descent.py:491: ConvergenceWarning: Objective did not converge. You might want to increase the number of iterations. Fitting data with very small alpha may cause precision problems.\n",
            "  ConvergenceWarning)\n",
            "/usr/local/lib/python3.6/dist-packages/sklearn/linear_model/coordinate_descent.py:491: ConvergenceWarning: Objective did not converge. You might want to increase the number of iterations. Fitting data with very small alpha may cause precision problems.\n",
            "  ConvergenceWarning)\n",
            "/usr/local/lib/python3.6/dist-packages/sklearn/linear_model/coordinate_descent.py:491: ConvergenceWarning: Objective did not converge. You might want to increase the number of iterations. Fitting data with very small alpha may cause precision problems.\n",
            "  ConvergenceWarning)\n",
            "/usr/local/lib/python3.6/dist-packages/sklearn/linear_model/coordinate_descent.py:491: ConvergenceWarning: Objective did not converge. You might want to increase the number of iterations. Fitting data with very small alpha may cause precision problems.\n",
            "  ConvergenceWarning)\n",
            "/usr/local/lib/python3.6/dist-packages/sklearn/linear_model/coordinate_descent.py:491: ConvergenceWarning: Objective did not converge. You might want to increase the number of iterations. Fitting data with very small alpha may cause precision problems.\n",
            "  ConvergenceWarning)\n",
            "/usr/local/lib/python3.6/dist-packages/sklearn/linear_model/coordinate_descent.py:491: ConvergenceWarning: Objective did not converge. You might want to increase the number of iterations. Fitting data with very small alpha may cause precision problems.\n",
            "  ConvergenceWarning)\n",
            "/usr/local/lib/python3.6/dist-packages/sklearn/linear_model/coordinate_descent.py:491: ConvergenceWarning: Objective did not converge. You might want to increase the number of iterations. Fitting data with very small alpha may cause precision problems.\n",
            "  ConvergenceWarning)\n",
            "/usr/local/lib/python3.6/dist-packages/sklearn/linear_model/coordinate_descent.py:491: ConvergenceWarning: Objective did not converge. You might want to increase the number of iterations. Fitting data with very small alpha may cause precision problems.\n",
            "  ConvergenceWarning)\n",
            "/usr/local/lib/python3.6/dist-packages/sklearn/linear_model/coordinate_descent.py:491: ConvergenceWarning: Objective did not converge. You might want to increase the number of iterations. Fitting data with very small alpha may cause precision problems.\n",
            "  ConvergenceWarning)\n",
            "/usr/local/lib/python3.6/dist-packages/sklearn/linear_model/coordinate_descent.py:491: ConvergenceWarning: Objective did not converge. You might want to increase the number of iterations. Fitting data with very small alpha may cause precision problems.\n",
            "  ConvergenceWarning)\n",
            "/usr/local/lib/python3.6/dist-packages/sklearn/linear_model/coordinate_descent.py:491: ConvergenceWarning: Objective did not converge. You might want to increase the number of iterations. Fitting data with very small alpha may cause precision problems.\n",
            "  ConvergenceWarning)\n",
            "/usr/local/lib/python3.6/dist-packages/sklearn/linear_model/coordinate_descent.py:491: ConvergenceWarning: Objective did not converge. You might want to increase the number of iterations. Fitting data with very small alpha may cause precision problems.\n",
            "  ConvergenceWarning)\n",
            "/usr/local/lib/python3.6/dist-packages/sklearn/linear_model/coordinate_descent.py:491: ConvergenceWarning: Objective did not converge. You might want to increase the number of iterations. Fitting data with very small alpha may cause precision problems.\n",
            "  ConvergenceWarning)\n",
            "/usr/local/lib/python3.6/dist-packages/sklearn/linear_model/coordinate_descent.py:491: ConvergenceWarning: Objective did not converge. You might want to increase the number of iterations. Fitting data with very small alpha may cause precision problems.\n",
            "  ConvergenceWarning)\n"
          ],
          "name": "stderr"
        },
        {
          "output_type": "execute_result",
          "data": {
            "text/plain": [
              "GridSearchCV(cv=5, error_score='raise',\n",
              "       estimator=Pipeline(memory=None,\n",
              "     steps=[('imp', Imputer(axis=0, copy=True, missing_values='NaN', strategy='median', verbose=0)), ('encoder', OneHotEncoder(categorical_features=[0, 1, 4, 5, 6, 7, 8, 9, 10, 11, 12, 13, 14, 15, 16, 17, 18, 19, 20, 21, 22, 23, 24, 26, 27, 28, 29, 30, 31, 32, 34, 38, 39, 40, 41, 52, 54, 56, 57, 58, 61, ...e=False, precompute=False, random_state=None,\n",
              "   selection='cyclic', tol=0.0001, warm_start=False))]),\n",
              "       fit_params=None, iid=True, n_jobs=1,\n",
              "       param_grid={'regressor__alpha': [0.001, 0.01, 0.1, 1, 10, 100, 1000]},\n",
              "       pre_dispatch='2*n_jobs', refit=True, return_train_score=True,\n",
              "       scoring='neg_mean_absolute_error', verbose=0)"
            ]
          },
          "metadata": {
            "tags": []
          },
          "execution_count": 131
        }
      ]
    },
    {
      "metadata": {
        "id": "ZuWQy8WbFscN",
        "colab_type": "text"
      },
      "cell_type": "markdown",
      "source": [
        "If the score is similar to the one given by the random search it could be due to the limited parameter space that was passed to both functions. The results could vary though, as the cross-validation was done through more iterations on the `GridSearchCV` than on the `RandomSearchCV`, so it is possible that the score for this model might be better than the previous search method."
      ]
    },
    {
      "metadata": {
        "id": "gSEkPOPCn4iS",
        "colab_type": "code",
        "colab": {
          "base_uri": "https://localhost:8080/",
          "height": 34
        },
        "outputId": "94a4b0fb-6eb6-4ad4-85d4-6de72aea15d1"
      },
      "cell_type": "code",
      "source": [
        "grid_search.best_score_"
      ],
      "execution_count": 132,
      "outputs": [
        {
          "output_type": "execute_result",
          "data": {
            "text/plain": [
              "-16121.234412392263"
            ]
          },
          "metadata": {
            "tags": []
          },
          "execution_count": 132
        }
      ]
    },
    {
      "metadata": {
        "id": "qqHKCi1GGRAv",
        "colab_type": "text"
      },
      "cell_type": "markdown",
      "source": [
        "For similar reasons, the best parameters might coincide with the ones given by the random search because of the limited parameter space that the search was executed on"
      ]
    },
    {
      "metadata": {
        "id": "4TuZs6YGn95A",
        "colab_type": "code",
        "colab": {
          "base_uri": "https://localhost:8080/",
          "height": 34
        },
        "outputId": "92702f25-e37e-4e4b-9db7-65f29c8140fd"
      },
      "cell_type": "code",
      "source": [
        "grid_search.best_params_"
      ],
      "execution_count": 133,
      "outputs": [
        {
          "output_type": "execute_result",
          "data": {
            "text/plain": [
              "{'regressor__alpha': 100}"
            ]
          },
          "metadata": {
            "tags": []
          },
          "execution_count": 133
        }
      ]
    },
    {
      "metadata": {
        "id": "mZnS2aIlkj1Q",
        "colab_type": "text"
      },
      "cell_type": "markdown",
      "source": [
        "We can see the results of the grid search, and what steps it took to improve the score of the estimator it found"
      ]
    },
    {
      "metadata": {
        "id": "C0sN08DAoAKT",
        "colab_type": "code",
        "colab": {
          "base_uri": "https://localhost:8080/",
          "height": 442
        },
        "outputId": "4e3418e5-2472-4f1d-d572-877e703af9a7"
      },
      "cell_type": "code",
      "source": [
        "pretty_print_split_results(grid_search.cv_results_, len(grid_search.cv_results_['params']))"
      ],
      "execution_count": 135,
      "outputs": [
        {
          "output_type": "display_data",
          "data": {
            "image/png": "[encoded data removed]",
            "text/plain": [
              "<matplotlib.figure.Figure at 0x7fa3156f8588>"
            ]
          },
          "metadata": {
            "tags": []
          }
        }
      ]
    },
    {
      "metadata": {
        "id": "z7FQyNdO1hVy",
        "colab_type": "text"
      },
      "cell_type": "markdown",
      "source": [
        "We proceed then to obtain the best model and calculate the predictions for both training and test datasets"
      ]
    },
    {
      "metadata": {
        "id": "7wk3gyd_osyH",
        "colab_type": "code",
        "colab": {}
      },
      "cell_type": "code",
      "source": [
        "best_model = grid_search.best_estimator_\n",
        "y_train_pred= best_model.predict(X_train)\n",
        "y_test_pred = best_model.predict(X_test)"
      ],
      "execution_count": 0,
      "outputs": []
    },
    {
      "metadata": {
        "id": "1m4P2dQOovEz",
        "colab_type": "code",
        "colab": {
          "base_uri": "https://localhost:8080/",
          "height": 85
        },
        "outputId": "41dfa147-26b2-4c78-8008-890deda70a07"
      },
      "cell_type": "code",
      "source": [
        "mae_train = mean_absolute_error(y_pred=y_train_pred, y_true=y_train)\n",
        "mae_test  = mean_absolute_error(y_pred=y_test_pred, y_true=y_test)\n",
        "msg = \"Mean Absolute Error with Lasso model from grid search: {}\"\n",
        "print(msg.format(mae_train))\n",
        "print(msg.format(mae_test))\n",
        "print(\"Model train score: {}\".format(best_model.score(X_train, y_train)))\n",
        "print(\"Model test score: {}\".format(best_model.score(X_test, y_test)))"
      ],
      "execution_count": 137,
      "outputs": [
        {
          "output_type": "stream",
          "text": [
            "Mean Absolute Error with Lasso model from grid search: 13249.918325626511\n",
            "Mean Absolute Error with Lasso model from grid search: 18049.70381408049\n",
            "Model train score: 0.9356469689943616\n",
            "Model test score: 0.8471608172298151\n"
          ],
          "name": "stdout"
        }
      ]
    },
    {
      "metadata": {
        "id": "_4WVyYkRXERw",
        "colab_type": "text"
      },
      "cell_type": "markdown",
      "source": [
        "The result from this estimator may result pretty similar to the one thrown by the random search. This is due to the small parameter space, meaning that the probabilities of the 2 methods throwing the same model are higher."
      ]
    },
    {
      "metadata": {
        "id": "IV62B5CbXRy6",
        "colab_type": "text"
      },
      "cell_type": "markdown",
      "source": [
        "Finally we will do a `GridSearchCV` to find the best possible `RandomForestRegressor` model. We will vary the `max_depth` and `n_estimators` parameters for this.\n",
        "\n"
      ]
    },
    {
      "metadata": {
        "id": "YWnm8kNwo0nK",
        "colab_type": "code",
        "colab": {}
      },
      "cell_type": "code",
      "source": [
        "param_space = {\n",
        "    'regressor__n_estimators': [1, 10, 20, 50, 100, 1000],\n",
        "    'regressor__max_depth': [1, 2, 5, 10, 20, 30]\n",
        "}\n",
        "\n",
        "grid_search = GridSearchCV(param_grid=param_space, estimator=model2, scoring='neg_mean_absolute_error', cv=5, return_train_score=True)"
      ],
      "execution_count": 0,
      "outputs": []
    },
    {
      "metadata": {
        "id": "QzGoRoghXgqc",
        "colab_type": "text"
      },
      "cell_type": "markdown",
      "source": [
        "We can now proceed to train this model"
      ]
    },
    {
      "metadata": {
        "id": "zMJrTn49pDRc",
        "colab_type": "code",
        "colab": {
          "base_uri": "https://localhost:8080/",
          "height": 207
        },
        "outputId": "fc2665b7-e0d4-412f-8942-5f5c45280954"
      },
      "cell_type": "code",
      "source": [
        "grid_search.fit(X_train, y_train)"
      ],
      "execution_count": 139,
      "outputs": [
        {
          "output_type": "execute_result",
          "data": {
            "text/plain": [
              "GridSearchCV(cv=5, error_score='raise',\n",
              "       estimator=Pipeline(memory=None,\n",
              "     steps=[('imp', Imputer(axis=0, copy=True, missing_values='NaN', strategy='median', verbose=0)), ('regressor', RandomForestRegressor(bootstrap=True, criterion='mse', max_depth=None,\n",
              "           max_features='auto', max_leaf_nodes=None,\n",
              "           min_impurity_decre...imators=10, n_jobs=1,\n",
              "           oob_score=False, random_state=None, verbose=0, warm_start=False))]),\n",
              "       fit_params=None, iid=True, n_jobs=1,\n",
              "       param_grid={'regressor__n_estimators': [1, 10, 20, 50, 100], 'regressor__max_depth': [1, 2, 5, 10, 20, 30]},\n",
              "       pre_dispatch='2*n_jobs', refit=True, return_train_score=True,\n",
              "       scoring='neg_mean_absolute_error', verbose=0)"
            ]
          },
          "metadata": {
            "tags": []
          },
          "execution_count": 139
        }
      ]
    },
    {
      "metadata": {
        "id": "ZAxZ4QyqXsRg",
        "colab_type": "text"
      },
      "cell_type": "markdown",
      "source": [
        "Now that we trained the model we can see the `best_score` that we got through this `GridSearchCV`, as well a as the `best_params` for the model chosen"
      ]
    },
    {
      "metadata": {
        "id": "YZzSHUl7pGzO",
        "colab_type": "code",
        "colab": {
          "base_uri": "https://localhost:8080/",
          "height": 34
        },
        "outputId": "640b2e55-4dc5-429d-f1a9-1c12515894c9"
      },
      "cell_type": "code",
      "source": [
        "grid_search.best_score_"
      ],
      "execution_count": 140,
      "outputs": [
        {
          "output_type": "execute_result",
          "data": {
            "text/plain": [
              "-17292.058965314514"
            ]
          },
          "metadata": {
            "tags": []
          },
          "execution_count": 140
        }
      ]
    },
    {
      "metadata": {
        "id": "Zo9EonrNpKHi",
        "colab_type": "code",
        "colab": {
          "base_uri": "https://localhost:8080/",
          "height": 34
        },
        "outputId": "5541981c-450c-4093-95c7-67a37aaf2e7e"
      },
      "cell_type": "code",
      "source": [
        "grid_search.best_params_"
      ],
      "execution_count": 141,
      "outputs": [
        {
          "output_type": "execute_result",
          "data": {
            "text/plain": [
              "{'regressor__max_depth': 20, 'regressor__n_estimators': 100}"
            ]
          },
          "metadata": {
            "tags": []
          },
          "execution_count": 141
        }
      ]
    },
    {
      "metadata": {
        "id": "kAMEhT7NYUxb",
        "colab_type": "text"
      },
      "cell_type": "markdown",
      "source": [
        "We can see the results of the Cross-validation for this method, and how the training and test accuracy varied within the validation iterations.\n",
        "\n",
        "\n",
        "---\n",
        "\n",
        "It's very likely that, given the short amount of data that we count on for this problem, the model will be prone to overfit. If that's the case, this will be reflected on both the graphic below, and the results of the prediction for training and testing datasets."
      ]
    },
    {
      "metadata": {
        "id": "2h_UQwlRpMIm",
        "colab_type": "code",
        "colab": {
          "base_uri": "https://localhost:8080/",
          "height": 442
        },
        "outputId": "64c4ecc4-9205-4d74-f632-149abc47c06f"
      },
      "cell_type": "code",
      "source": [
        "pretty_print_split_results(grid_search.cv_results_, len(grid_search.cv_results_['params']))"
      ],
      "execution_count": 142,
      "outputs": [
        {
          "output_type": "display_data",
          "data": {
            "image/png": "[encoded data removed]",
            "text/plain": [
              "<matplotlib.figure.Figure at 0x7fa31551cf60>"
            ]
          },
          "metadata": {
            "tags": []
          }
        }
      ]
    },
    {
      "metadata": {
        "id": "T-i3U0iopM1_",
        "colab_type": "code",
        "colab": {}
      },
      "cell_type": "code",
      "source": [
        "best_model = grid_search.best_estimator_\n",
        "y_train_pred= best_model.predict(X_train)\n",
        "y_test_pred = best_model.predict(X_test)"
      ],
      "execution_count": 0,
      "outputs": []
    },
    {
      "metadata": {
        "id": "IIg8LDrIpQHH",
        "colab_type": "code",
        "colab": {
          "base_uri": "https://localhost:8080/",
          "height": 85
        },
        "outputId": "f47c0b0f-309c-4473-d3e0-b4a2d92364aa"
      },
      "cell_type": "code",
      "source": [
        "mae_train = mean_absolute_error(y_pred=y_train_pred, y_true=y_train)\n",
        "mae_test  = mean_absolute_error(y_pred=y_test_pred, y_true=y_test)\n",
        "msg = \"Mean Absolute Error with Random Forest model from grid search: {}\"\n",
        "print(msg.format(mae_train))\n",
        "print(msg.format(mae_test))\n",
        "print(\"Model train score: {}\".format(best_model.score(X_train, y_train)))\n",
        "print(\"Model test score: {}\".format(best_model.score(X_test, y_test)))"
      ],
      "execution_count": 144,
      "outputs": [
        {
          "output_type": "stream",
          "text": [
            "Mean Absolute Error with Random Forest model from grid search: 6145.599502513592\n",
            "Mean Absolute Error with Random Forest model from grid search: 20287.455787501014\n",
            "Model train score: 0.9814620724881161\n",
            "Model test score: 0.8210394245353742\n"
          ],
          "name": "stdout"
        }
      ]
    }
  ]
}